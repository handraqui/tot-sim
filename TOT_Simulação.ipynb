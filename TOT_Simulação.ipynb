{
 "cells": [
  {
   "cell_type": "code",
   "execution_count": 1,
   "metadata": {
    "colab": {},
    "colab_type": "code",
    "id": "-UXaqMM9H8A2"
   },
   "outputs": [],
   "source": [
    "from random import randint"
   ]
  },
  {
   "cell_type": "code",
   "execution_count": 2,
   "metadata": {
    "colab": {},
    "colab_type": "code",
    "id": "_VezrqqjIOVj"
   },
   "outputs": [],
   "source": [
    "def Contains(A,B):\n",
    "\n",
    "    for b in B:\n",
    "        \n",
    "        if(b not in A):\n",
    "\n",
    "            return False\n",
    "\n",
    "    return True"
   ]
  },
  {
   "cell_type": "code",
   "execution_count": 3,
   "metadata": {
    "colab": {},
    "colab_type": "code",
    "id": "r3Giep_89CLM"
   },
   "outputs": [],
   "source": [
    "def Heirs(vertex,graph):\n",
    "    \n",
    "    N = len(graph)\n",
    "\n",
    "    heirs = [j for j in range(N) if graph[vertex][j] == 1]\n",
    "\n",
    "    return heirs"
   ]
  },
  {
   "cell_type": "code",
   "execution_count": 4,
   "metadata": {
    "colab": {},
    "colab_type": "code",
    "id": "0giL34Lk9Gpm"
   },
   "outputs": [],
   "source": [
    "def Multi_Heirs(vertices, graph):\n",
    "\n",
    "    multi_heirs = [Heirs(i,graph) for i in vertices]\n",
    "\n",
    "    multi_heirs = [n for sub in multi_heirs for n in sub]\n",
    "\n",
    "    return list(set(multi_heirs))"
   ]
  },
  {
   "cell_type": "code",
   "execution_count": 5,
   "metadata": {},
   "outputs": [],
   "source": [
    "def Parents(vertex, graph):\n",
    "    \n",
    "    N = len (graph)\n",
    "    \n",
    "    parents = [j for j in range(N) if graph[j][vertex] == 1]\n",
    "    \n",
    "    return parents\n",
    "    "
   ]
  },
  {
   "cell_type": "code",
   "execution_count": 6,
   "metadata": {},
   "outputs": [],
   "source": [
    "def Multi_Parents(vertices, graph):\n",
    "\n",
    "    multi_parents = [Parents(i,graph) for i in vertices]\n",
    "\n",
    "    multi_parents = [n for sub in multi_parents for n in sub]\n",
    "\n",
    "    return list(set(multi_parents))"
   ]
  },
  {
   "cell_type": "code",
   "execution_count": 7,
   "metadata": {},
   "outputs": [],
   "source": [
    "def Ancestors(vertex, graph):\n",
    "    \n",
    "    ancestors = []\n",
    "    \n",
    "    new_ancestors = Parents(vertex, graph)\n",
    "    \n",
    "    while (not Contains(ancestors, new_ancestors)):\n",
    "        \n",
    "        ancestors += new_ancestors\n",
    "        ancestors = list(set(ancestors))\n",
    "        \n",
    "        new_ancestors += Multi_Parents(new_ancestors, graph)\n",
    "        new_ancestors = list(set(new_ancestors))\n",
    "        \n",
    "    return ancestors"
   ]
  },
  {
   "cell_type": "code",
   "execution_count": 8,
   "metadata": {},
   "outputs": [],
   "source": [
    "def Multi_Ancestors(vertices,graph):\n",
    "    \n",
    "    multi_ancestors = [Ancestors(i,graph) for i in vertices]\n",
    "    \n",
    "    multi_ancestors = [n for sub in multi_ancestors for n in sub]\n",
    "    \n",
    "    return list(set(multi_ancestors))"
   ]
  },
  {
   "cell_type": "code",
   "execution_count": 9,
   "metadata": {
    "colab": {},
    "colab_type": "code",
    "id": "UIhK141B9JTC"
   },
   "outputs": [],
   "source": [
    "def Descendants(vertex, graph):\n",
    "\n",
    "    descendants = []\n",
    "\n",
    "    new_descendants = Heirs(vertex, graph)\n",
    "\n",
    "    while(not Contains(descendants, new_descendants)):\n",
    "\n",
    "        descendants += new_descendants\n",
    "        descendants = list(set(descendants))\n",
    "\n",
    "        new_descendants += Multi_Heirs(new_descendants, graph)\n",
    "        new_descendants = list(set(new_descendants))\n",
    "\n",
    "\n",
    "    return descendants"
   ]
  },
  {
   "cell_type": "code",
   "execution_count": 10,
   "metadata": {},
   "outputs": [],
   "source": [
    "def Multi_Descendants(vertices,graph):\n",
    "    \n",
    "    multi_descendants = [Descendants(i,graph) for i in vertices]\n",
    "    \n",
    "    multi_descendants = [n for sub in multi_Descendants for n in sub]\n",
    "    \n",
    "    return list(set(multi_descendants))"
   ]
  },
  {
   "cell_type": "code",
   "execution_count": 11,
   "metadata": {
    "colab": {},
    "colab_type": "code",
    "id": "v4EHuiOd9MrO"
   },
   "outputs": [],
   "source": [
    "def Has_Cycle(graph):\n",
    "    \n",
    "    N = len(graph)\n",
    "\n",
    "    for i in range(N):\n",
    "        \n",
    "        if(i in Descendants(i,graph)):\n",
    "\n",
    "            return True\n",
    "        \n",
    "    return False"
   ]
  },
  {
   "cell_type": "code",
   "execution_count": 12,
   "metadata": {
    "scrolled": false
   },
   "outputs": [],
   "source": [
    "def Which_Cycle(graph):\n",
    "    \n",
    "    N = len(graph)\n",
    "\n",
    "    for i in range(N):\n",
    "        \n",
    "        if(i in Descendants(i,graph)):\n",
    "\n",
    "            print(i)\n",
    "\n",
    "    if Has_Cycle(dag):\n",
    "        print(\"Olha aqui:\")\n",
    "        Which_Cycle(dag)"
   ]
  },
  {
   "cell_type": "code",
   "execution_count": 13,
   "metadata": {
    "scrolled": false
   },
   "outputs": [],
   "source": [
    "def PrintAncestors(vertex,graph):\n",
    "    if len(Parents(vertex,graph)) != 0:\n",
    "        print (str(vertex),\": \", Parents(vertex,graph))\n",
    "        for i in Parents(vertex,graph):\n",
    "            PrintAncestors(i,graph)\n",
    "            \n",
    "def PrintDescendants(vertex,graph):\n",
    "    if len(Heirs(vertex,graph)) != 0:\n",
    "        print (str(vertex),\": \", Heirs(vertex,graph))\n",
    "        for i in Heirs(vertex,graph):\n",
    "            PrintDescendants(i,graph)"
   ]
  },
  {
   "cell_type": "code",
   "execution_count": 14,
   "metadata": {
    "scrolled": true
   },
   "outputs": [],
   "source": [
    "# Classificação de vértices\n",
    "\n",
    "def FirstGeneration(graph):\n",
    "    return [j for j in range(len(graph)) if len(Parents(j,graph)) == 0]\n",
    "    \n",
    "def LastGeneration(graph):\n",
    "    return [j for j in range(len(graph)) if len(Heirs(j,graph)) == 0]\n",
    "\n",
    "def Isolated(graph):\n",
    "    return [j for j in range(len(graph)) if (len(Parents(j,graph)) == 0 and len(Heirs(j,graph)) == 0)]"
   ]
  },
  {
   "cell_type": "code",
   "execution_count": 15,
   "metadata": {},
   "outputs": [],
   "source": [
    "# Topologia do grafo: Retorna todos os vértices com algum caminho de parentesco\n",
    "\n",
    "def Connected_Subgraph (vertex, graph):\n",
    "    \n",
    "    connected = []\n",
    "    \n",
    "    new_connected = Ancestors(vertex,graph) + Descendants(vertex,graph)\n",
    "    \n",
    "    while not Contains(connected,new_connected):\n",
    "        \n",
    "        connected += new_connected\n",
    "        connected = list(set(connected))\n",
    "        \n",
    "        new_connected += Multi_Ancestors(connected,graph) + Multi_Descendants(connected,graph)\n",
    "        new_connected = list(set(new_connected))\n",
    "        \n",
    "    return connected"
   ]
  },
  {
   "cell_type": "code",
   "execution_count": 85,
   "metadata": {},
   "outputs": [],
   "source": [
    "def Generations(graph):\n",
    "    \n",
    "    g = graph.copy()\n",
    "    \n",
    "    generations = []\n",
    "    \n",
    "    available = list(range(len(g)))\n",
    "    \n",
    "    while len(available) != 0:\n",
    "        \n",
    "        newfirst = FirstGeneration(g)\n",
    "        \n",
    "        generations.append([i for i in newfirst if i in available])\n",
    "        \n",
    "        available = [i for i in available if i not in newfirst]\n",
    "        \n",
    "        for i in range(len(newfirst)):\n",
    "            \n",
    "            g[newfirst[i]] = [0 for _ in range(len(g))]\n",
    "\n",
    "    return generations"
   ]
  },
  {
   "cell_type": "code",
   "execution_count": 17,
   "metadata": {},
   "outputs": [],
   "source": [
    "def RanDAG(n_vertices, n_edges):\n",
    "    \n",
    "    MaxEdges = int((n_vertices-1)*(n_vertices)/2)\n",
    "\n",
    "    assert( n_edges <= MaxEdges )\n",
    "  \n",
    "    ranDag = [[0 for _ in range(n_vertices)] for _ in range(n_vertices)]\n",
    "    \n",
    "    edges = sample(range(MaxEdges-1), n_edges)\n",
    "  \n",
    "    for e in edges:\n",
    "    \n",
    "        i = int(0.5 * (1 + sqrt(8*e + 1)))\n",
    "    \n",
    "        j = e - int(0.5 * i * (i-1))\n",
    "    \n",
    "        ranDag[i][j] = 1\n",
    "    \n",
    "    return ranDag"
   ]
  },
  {
   "cell_type": "code",
   "execution_count": 18,
   "metadata": {
    "colab": {},
    "colab_type": "code",
    "id": "8avwLSh09Udm"
   },
   "outputs": [],
   "source": [
    "from random import randint, sample\n",
    "from math import sqrt\n",
    "\n",
    "def RanDAG1(n_vertices, n_edges):\n",
    "    \n",
    "    assert( n_edges <= (n_vertices-1)*(n_vertices)/2)\n",
    "\n",
    "    ranDag = [[0 for _ in range(n_vertices)] for _ in range(n_vertices)]\n",
    "\n",
    "    edge_count = 0\n",
    "\n",
    "    while(edge_count < n_edges):\n",
    "        \n",
    "        i = randint(0,n_vertices-1)\n",
    "        j = randint(0,n_vertices-1)\n",
    "\n",
    "        if( ranDag[i][j] == 0 ):\n",
    "\n",
    "            ranDag[i][j] = 1\n",
    "\n",
    "            if( Has_Cycle(ranDag) ):\n",
    "\n",
    "                ranDag[i][j] = 0\n",
    "            \n",
    "            else:\n",
    "\n",
    "                edge_count += 1\n",
    "\n",
    "    return ranDag      "
   ]
  },
  {
   "cell_type": "code",
   "execution_count": 19,
   "metadata": {},
   "outputs": [],
   "source": [
    "def RanDAG2 (n_vertices, n_edges):\n",
    "    \n",
    "    assert( n_edges <= (n_vertices-1)*(n_vertices)/2)\n",
    "\n",
    "    ranDag = [[0 for _ in range(n_vertices)] for _ in range(n_vertices)]\n",
    "\n",
    "    edge_count = 0\n",
    "\n",
    "    multi_ancestors = [[i] for i in range(n_vertices)]\n",
    "\n",
    "    counts = 0\n",
    "\n",
    "    possible_parents = [j for j in range(n_vertices)]\n",
    "\n",
    "    while edge_count < n_edges:\n",
    "\n",
    "        if len(possible_parents) == 0:\n",
    "\n",
    "            print(\"Não há mais arestas possíveis\")\n",
    "\n",
    "            break\n",
    "\n",
    "        i = possible_parents[randint(0,len(possible_parents)-1)]\n",
    "\n",
    "        available = []\n",
    "\n",
    "        for j in range(n_vertices):\n",
    "\n",
    "            if j not in multi_ancestors[i]:\n",
    "\n",
    "                available.append(j)\n",
    "\n",
    "        j = available[randint(0,len(available)-1)]\n",
    "\n",
    "        ranDag[i][j] = 1\n",
    "\n",
    "        edge_count+= 1\n",
    "\n",
    "        for l in range(n_vertices):\n",
    "\n",
    "            multi_ancestors[l] = multi_ancestors[l] + [k for k in multi_ancestors[i]]\n",
    "\n",
    "            multi_ancestors[l] = list(set(multi_ancestors[l]))\n",
    "\n",
    "        for l in possible_parents:\n",
    "\n",
    "            if len(multi_ancestors[l]) == n_vertices:\n",
    "\n",
    "                possible_parents.remove(l)\n",
    "\n",
    "        if counts == 100000:\n",
    "\n",
    "            print(\"Olha, demorou demais: \",edge_count,\" iterações. Pediu muitas arestas? Mexa no script e aumente o limite.\")\n",
    "\n",
    "            break\n",
    "\n",
    "        counts += 1\n",
    "\n",
    "    return ranDag"
   ]
  },
  {
   "cell_type": "code",
   "execution_count": 20,
   "metadata": {},
   "outputs": [],
   "source": [
    "# Triangular inferior, n_edges binomial\n",
    "\n",
    "def RanDAG3(n_vertices,n_edges):\n",
    "    \n",
    "    max_possible = (n_vertices-1)*(n_vertices)/2\n",
    "    \n",
    "    p = n_edges/((n_vertices-1)*(n_vertices)/2)\n",
    "\n",
    "    graph = [[0 for _ in range(n_vertices)] for _ in range(n_vertices)]\n",
    "    \n",
    "    for i in range(len(graph)):\n",
    "        \n",
    "        for j in range(len(graph)):\n",
    "            \n",
    "            if j < i :\n",
    "                \n",
    "                graph[i][j] = int(randint(0,(n_vertices-1)*(n_vertices)/2) <= n_edges)\n",
    "\n",
    "    return graph"
   ]
  },
  {
   "cell_type": "code",
   "execution_count": 21,
   "metadata": {},
   "outputs": [],
   "source": [
    "from random import sample\n",
    "\n",
    "def oldRanDAG(n_vertexes, n_edges):\n",
    "    \n",
    "    assert( n_edges <= (n_vertexes-1)*(n_vertexes)/2)\n",
    "    \n",
    "    ranDag = [[0 for _ in range(n_vertexes)] for _ in range(n_vertexes)]\n",
    "  \n",
    "    edges = [e for e in range(n_vertexes * n_vertexes) if e%(n_vertexes+1) != 0]\n",
    "\n",
    "    edge_count = 0\n",
    "    \n",
    "    while(edge_count < n_edges):\n",
    "    \n",
    "        if( len(edges) == 0 ):\n",
    "      \n",
    "            return ranDag\n",
    "    \n",
    "        e = sample(edges,1)[0]\n",
    "    \n",
    "        i = int(e/n_vertexes)\n",
    "        j = e % n_vertexes \n",
    "    \n",
    "        ranDag[i][j] = 1\n",
    "            \n",
    "        if( not Has_Cycle(ranDag) ):\n",
    "        \n",
    "            edge_count += 1\n",
    "            \n",
    "        else:\n",
    "        \n",
    "            ranDag[i][j] = 0\n",
    "        \n",
    "            ranDag[j][i] = 1\n",
    "        \n",
    "            if( not Has_Cycle(ranDag) ):\n",
    "          \n",
    "                edge_count += 1\n",
    "          \n",
    "            else:\n",
    "          \n",
    "                ranDag[j][i] = 0\n",
    "    \n",
    "        edges.remove(e)\n",
    "\n",
    "        edges.remove(j*n_vertexes + i)\n",
    "               \n",
    "    return ranDag      "
   ]
  },
  {
   "cell_type": "code",
   "execution_count": 22,
   "metadata": {
    "scrolled": true
   },
   "outputs": [],
   "source": [
    "import matplotlib.pyplot as plt\n",
    "\n",
    "def PlotDAG(dag,generations):\n",
    "    fig = plt.figure()\n",
    "    ax = fig.add_subplot(111)\n",
    "\n",
    "    for i in range(len(generations)):\n",
    "        for j in range(i,len(generations)):\n",
    "            for k in generations[i]:\n",
    "                for l in generations[j]:\n",
    "                    if dag[k][l] == 1:\n",
    "                        plt.plot([k,l],[i,j])#,c='gray')\n",
    "                        ax.annotate('%s' % k ,(k,i))\n",
    "    for j in generations[-1]:\n",
    "        ax.annotate('%s' % j, (j,i))\n",
    "    plt.show()\n",
    "    return None"
   ]
  },
  {
   "cell_type": "code",
   "execution_count": 91,
   "metadata": {},
   "outputs": [],
   "source": [
    "import matplotlib.pyplot as plt\n",
    "\n",
    "def PlotDAGArrows(dag,generations):\n",
    "    n_vertices = len(dag)\n",
    "    fig = plt.figure()\n",
    "    ax = fig.add_subplot(111)\n",
    "    ax.axes.set_xlim([-1,n_vertices])\n",
    "    ax.axes.set_ylim([-1,len(generations)])\n",
    "    \n",
    "    print(generations)\n",
    "    \n",
    "    for i in range(len(generations)):\n",
    "        for j in range(i+1,len(generations)):\n",
    "            for k in generations[i]:\n",
    "                for l in generations[j]:\n",
    "                    if dag[k][l] == 1:\n",
    "                        ax.annotate(\"\", xy=(l, j), xytext=(k, i),arrowprops=dict(arrowstyle=\"->\",color='gray'))\n",
    "                        ax.annotate('%s' % k ,(k,i))\n",
    "    for j in generations[-1]:\n",
    "        ax.annotate('%s' % j, (j,i))\n",
    "    plt.show()\n",
    "    return None"
   ]
  },
  {
   "cell_type": "code",
   "execution_count": 92,
   "metadata": {},
   "outputs": [
    {
     "name": "stdout",
     "output_type": "stream",
     "text": [
      "False\n",
      "CPU times: user 65.6 ms, sys: 45 µs, total: 65.6 ms\n",
      "Wall time: 64.9 ms\n"
     ]
    }
   ],
   "source": [
    "%%time\n",
    "dag = RanDAG(80,3000)\n",
    "print(Has_Cycle(dag))"
   ]
  },
  {
   "cell_type": "code",
   "execution_count": 93,
   "metadata": {
    "scrolled": true
   },
   "outputs": [
    {
     "name": "stdout",
     "output_type": "stream",
     "text": [
      "False\n",
      "CPU times: user 570 ms, sys: 0 ns, total: 570 ms\n",
      "Wall time: 569 ms\n"
     ]
    }
   ],
   "source": [
    "%%time\n",
    "dag = RanDAG1(40,100)\n",
    "print(Has_Cycle(dag))"
   ]
  },
  {
   "cell_type": "code",
   "execution_count": 94,
   "metadata": {
    "scrolled": false
   },
   "outputs": [
    {
     "name": "stdout",
     "output_type": "stream",
     "text": [
      "False\n",
      "CPU times: user 573 ms, sys: 3.76 ms, total: 577 ms\n",
      "Wall time: 578 ms\n"
     ]
    }
   ],
   "source": [
    "%%time\n",
    "dag = RanDAG2(80,1000)\n",
    "print(Has_Cycle(dag))"
   ]
  },
  {
   "cell_type": "code",
   "execution_count": 95,
   "metadata": {
    "scrolled": false
   },
   "outputs": [
    {
     "name": "stdout",
     "output_type": "stream",
     "text": [
      "False\n",
      "Quantidade de arestas:  1006\n",
      "CPU times: user 75.4 ms, sys: 0 ns, total: 75.4 ms\n",
      "Wall time: 74.7 ms\n"
     ]
    }
   ],
   "source": [
    "%%time\n",
    "dag = RanDAG3(80,1000)\n",
    "print(Has_Cycle(dag))\n",
    "\n",
    "import numpy as np\n",
    "print(\"Quantidade de arestas: \",np.sum(np.array(dag)))"
   ]
  },
  {
   "cell_type": "code",
   "execution_count": 96,
   "metadata": {
    "colab": {},
    "colab_type": "code",
    "id": "PQ0LHP5ohJDH"
   },
   "outputs": [],
   "source": [
    "def Distribute(graph):\n",
    "\n",
    "    N = len(graph)\n",
    "\n",
    "    distributed_graph = [[0 for _ in range(N)] for _ in range(N)]\n",
    "\n",
    "    for j in range(N):\n",
    "\n",
    "        total_weight = sum([b[j] for b in graph])\n",
    "\n",
    "        for i in range(N):\n",
    "\n",
    "            if( graph[i][j] == 1 ):\n",
    "\n",
    "                distributed_graph[i][j] = 1 / (1 + total_weight)\n",
    "\n",
    "    return distributed_graph"
   ]
  },
  {
   "cell_type": "code",
   "execution_count": 97,
   "metadata": {},
   "outputs": [],
   "source": [
    "def Genetics(dist_matrix,generations,native):\n",
    "    \n",
    "    import numpy as np\n",
    "    \n",
    "    n_vertices = len(dist_matrix)\n",
    "    \n",
    "    zero = np.zeros((n_vertices,n_vertices))\n",
    "    \n",
    "    power = np.array(dist_matrix)\n",
    "    \n",
    "    S = power\n",
    "    \n",
    "    for i in range(len(generations)):\n",
    "        \n",
    "        if (np.dot(power,dist_matrix) == zero).all():\n",
    "            \n",
    "            break\n",
    "        \n",
    "        power = np.dot(power,dist_matrix)\n",
    "        \n",
    "        S = S + power\n",
    "    \n",
    "    total_weight = [sum([b[j] for b in S]) for j in range(n_vertices)]\n",
    "    \n",
    "    Q = [[0 for _ in range(n_vertices)] for _ in range(n_vertices)]\n",
    "    \n",
    "    for j in range(n_vertices):\n",
    "        if total_weight[j] == 0:\n",
    "            continue\n",
    "        for i in range(n_vertices):\n",
    "            if S[i,j] != 0:\n",
    "                Q[i][j] = S[i,j]/total_weight[j]\n",
    "    \n",
    "    G = [[(1-native[j])*Q[i][j]*int(i!=j) + native[j]*int(i==j)  for j in range(n_vertices)] for i in range(n_vertices)]\n",
    "    \n",
    "    return G"
   ]
  },
  {
   "cell_type": "code",
   "execution_count": 98,
   "metadata": {},
   "outputs": [],
   "source": [
    "def Genetic_Weight(G):\n",
    "    RG = [sum([b[j] for b in G])/7 for j in range(G[0])]\n",
    "    return RG"
   ]
  },
  {
   "cell_type": "code",
   "execution_count": 99,
   "metadata": {},
   "outputs": [],
   "source": [
    "from scipy import log\n",
    "\n",
    "def Entropy(G):\n",
    "    E = [-sum([b[j]*log(b[j])/log(2) for b in G if b[j] != 0]) for j in range(len(G[0]))]\n",
    "    return E"
   ]
  },
  {
   "cell_type": "code",
   "execution_count": 100,
   "metadata": {},
   "outputs": [],
   "source": [
    "import numpy as np\n",
    "\n",
    "def Genetic_Distance(G):\n",
    "    n_vertices = len(G)\n",
    "    G = np.array(G)\n",
    "    \n",
    "    G1 = G.reshape(n_vertices,1,n_vertices)\n",
    "    G2 = G.reshape(1,n_vertices,n_vertices)\n",
    "    \n",
    "    dif = G1 - G2\n",
    "        \n",
    "    dist = np.linalg.norm(dif,axis=2)\n",
    "    return dist"
   ]
  },
  {
   "cell_type": "code",
   "execution_count": 101,
   "metadata": {},
   "outputs": [],
   "source": [
    "class DAG():\n",
    "    \n",
    "    def __init__(self,n_vertices,n_edges,generator=0):\n",
    "        assert(generator in [0,1,2,3,4])\n",
    "        if generator == 0:\n",
    "            self.matrix = RanDAG(n_vertices,n_edges)\n",
    "        if generator == 1:\n",
    "            self.matrix = RanDAG1(n_vertices,n_edges)\n",
    "        if generator == 2:\n",
    "            self.matrix = RanDAG2(n_vertices,n_edges)\n",
    "        if generator == 3:\n",
    "            self.matrix = RanDAG3(n_vertices,n_edges)\n",
    "        if generator == 4:\n",
    "            self.matrix = oldRanDAG(n_vertices,n_edges)\n",
    "        \n",
    "        self.n_vertices = n_vertices\n",
    "        self.n_topics = n_vertices\n",
    "        self.n_edges = n_edges\n",
    "        \n",
    "        self.native = [1/(1+sum([b[j] for b in self.matrix])) for j in range(n_vertices)]\n",
    "        \n",
    "        self.firstgen = FirstGeneration(self.matrix)\n",
    "        self.lastgen = LastGeneration(self.matrix)\n",
    "                \n",
    "        if generator == 3:\n",
    "            self.n_edges = sum([k for sub in self.matrix for k in sub])\n",
    "        \n",
    "        self.dist_matrix = Distribute(self.matrix)\n",
    "        \n",
    "        self.generations = Generations(self.matrix)\n",
    "        self.genetics = Genetics(self.dist_matrix,self.generations,self.native)\n",
    "        \n",
    "    def Descendants(self,vertex):\n",
    "        return Descendants(vertex,self.matrix)\n",
    "        \n",
    "    def Ancestors(self,vertex):\n",
    "        return Ancestors(vertex,self.matrix)\n",
    "    \n",
    "    def Heirs(self,vertex):\n",
    "        return Heirs(vertex,self.matrix)\n",
    "    \n",
    "    def Parents(self,vertex):\n",
    "        return Parents(vertex,self.matrix)\n",
    "\n",
    "    def Multi_Descendants(self,vertex):\n",
    "        return Multi_Descendants(vertex,self.matrix)\n",
    "        \n",
    "    def Multi_Ancestors(self,vertex):\n",
    "        return Multi_Ancestors(vertex,self.matrix)\n",
    "    \n",
    "    def Multi_Heirs(self,vertex):\n",
    "        return Multi_Heirs(vertex,self.matrix)\n",
    "    \n",
    "    def Multi_Parents(self,vertex):\n",
    "        return Multi_Parents(vertex,self.matrix)\n",
    "    \n",
    "    def PrintAncestors(self,vertex):\n",
    "        PrintAncestors(vertex,self.matrix)\n",
    "    \n",
    "    def PrintDescendants(self,vertex):\n",
    "        PrintDescendants(vertex,self.matrix)\n",
    "    \n",
    "    def Generations(self):\n",
    "        return Generations(self.matrix)\n",
    "    \n",
    "    def Plot(self):\n",
    "        PlotDAG(self.matrix,self.generations)\n",
    "        \n",
    "    def PlotArrows(self):\n",
    "        PlotDAGArrows(self.matrix,self.generations)\n",
    "        \n",
    "    def Genetics(self):\n",
    "        return Genetics(self.dist_matrix,self.generations,self.native)\n",
    "    \n",
    "    def Genetic_Weight(self):\n",
    "        return Genetic_Weight(self.genetics)\n",
    "    \n",
    "    def Genetic_Entropy(self):\n",
    "        return Entropy(self.genetics)\n",
    "    \n",
    "    def Genetic_Distance(self):\n",
    "        return Genetic_Distance(self.genetics)\n",
    "    \n",
    "    def Neighbor_Distance(self):\n",
    "        GD = Genetic_Distance(self.genetics)\n",
    "        F = [[GD[i][j]*int(self.matrix[i][j] == 1) for j in range(self.n_vertices)] for i in range(self.n_vertices)]\n",
    "        return F\n",
    "    \n",
    "    def ExportMatrix(self):\n",
    "        # Depends on numpy\n",
    "        aux = numpy.asarray(self.matrix)\n",
    "        numpy.savetxt(\"out\",aux,delimiter=\",\")\n",
    "    \n",
    "    def __str__(self):\n",
    "        string = \"\"\n",
    "        for i in range(self.n_vertices):\n",
    "            string += str(self.matrix[i])\n",
    "            string += \"\\n\"\n",
    "        return str(string)"
   ]
  },
  {
   "cell_type": "code",
   "execution_count": 102,
   "metadata": {
    "scrolled": true
   },
   "outputs": [
    {
     "data": {
      "image/png": "[encoded data removed]",
      "text/plain": [
       "<Figure size 432x288 with 1 Axes>"
      ]
     },
     "metadata": {
      "needs_background": "light"
     },
     "output_type": "display_data"
    },
    {
     "data": {
      "text/plain": [
       "[[0, 2, 4], [1], [3]]"
      ]
     },
     "execution_count": 102,
     "metadata": {},
     "output_type": "execute_result"
    }
   ],
   "source": [
    "dag = DAG(5,8,2)\n",
    "dag.Plot()\n",
    "dag.generations"
   ]
  },
  {
   "cell_type": "code",
   "execution_count": 103,
   "metadata": {
    "scrolled": true
   },
   "outputs": [
    {
     "name": "stdout",
     "output_type": "stream",
     "text": [
      "[0, 1, 0, 1, 0]\n",
      "[0, 0, 0, 1, 0]\n",
      "[0, 1, 0, 0, 0]\n",
      "[0, 0, 0, 0, 0]\n",
      "[0, 1, 0, 1, 0]\n",
      "\n"
     ]
    }
   ],
   "source": [
    "FormalPrint(dag.matrix)"
   ]
  },
  {
   "cell_type": "code",
   "execution_count": 104,
   "metadata": {
    "scrolled": true
   },
   "outputs": [
    {
     "name": "stdout",
     "output_type": "stream",
     "text": [
      "[[0, 2, 4], [1], [3]]\n"
     ]
    },
    {
     "data": {
      "image/png": "[encoded data removed]",
      "text/plain": [
       "<Figure size 432x288 with 1 Axes>"
      ]
     },
     "metadata": {
      "needs_background": "light"
     },
     "output_type": "display_data"
    }
   ],
   "source": [
    "dag.PlotArrows()"
   ]
  },
  {
   "cell_type": "code",
   "execution_count": 105,
   "metadata": {
    "scrolled": false
   },
   "outputs": [],
   "source": [
    "def DecimalPrint(matrix):\n",
    "\n",
    "    texto = \"\"\n",
    "    for i in range(len(matrix)):\n",
    "        linha = \"[\"\n",
    "        for j in range(len(matrix)):\n",
    "            aux = \"%.3f\" % matrix[i][j]\n",
    "            addaux = \", \"\n",
    "            if j == len(matrix)-1:\n",
    "                addaux = \"\"\n",
    "            aux += addaux\n",
    "            linha += aux\n",
    "        texto += linha + \"]\\n\"\n",
    "    print(texto)"
   ]
  },
  {
   "cell_type": "code",
   "execution_count": 106,
   "metadata": {},
   "outputs": [],
   "source": [
    "def FormalPrint(matrix):\n",
    "    texto = \"\"\n",
    "    for i in range(len(matrix)):\n",
    "        linha = \"[\"\n",
    "        for j in range(len(matrix)):\n",
    "            aux = \"%.0f\" % matrix[i][j]\n",
    "            addaux = \", \"\n",
    "            if j == len(matrix)-1:\n",
    "                addaux = \"\"\n",
    "            aux += addaux\n",
    "            linha += aux\n",
    "        texto += linha + \"]\\n\"\n",
    "    print(texto)"
   ]
  },
  {
   "cell_type": "code",
   "execution_count": null,
   "metadata": {},
   "outputs": [],
   "source": []
  }
 ],
 "metadata": {
  "colab": {
   "collapsed_sections": [],
   "name": "TOT - Simulação",
   "provenance": [],
   "version": "0.3.2"
  },
  "kernelspec": {
   "display_name": "Python 3",
   "language": "python",
   "name": "python3"
  },
  "language_info": {
   "codemirror_mode": {
    "name": "ipython",
    "version": 3
   },
   "file_extension": ".py",
   "mimetype": "text/x-python",
   "name": "python",
   "nbconvert_exporter": "python",
   "pygments_lexer": "ipython3",
   "version": "3.7.1"
  }
 },
 "nbformat": 4,
 "nbformat_minor": 1
}
