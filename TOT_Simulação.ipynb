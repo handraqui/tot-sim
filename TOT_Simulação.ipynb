{
 "cells": [
  {
   "cell_type": "markdown",
   "metadata": {
    "colab_type": "text",
    "id": "IhYsdAOn8Nhk"
   },
   "source": [
    "Mudei o nome deste notebook porque não estou achando o outro que eu criei :P\n",
    "\n",
    "Edit 1 (25/11/18 - 11:47 Henrique): Como sugeri no whatsapp, incorporei as funções criadas pelo Leonardo. Com isso, passo a trabalhar sobre elas."
   ]
  },
  {
   "cell_type": "code",
   "execution_count": 1,
   "metadata": {
    "colab": {
     "base_uri": "https://localhost:8080/",
     "height": 17
    },
    "colab_type": "code",
    "id": "5PJ2qxj28caz",
    "outputId": "129b35e1-a871-43bb-9be9-b4f4bfdb11fb"
   },
   "outputs": [
    {
     "data": {
      "text/html": [
       "<style>.container { width:100% !important; }</style>"
      ],
      "text/plain": [
       "<IPython.core.display.HTML object>"
      ]
     },
     "metadata": {},
     "output_type": "display_data"
    }
   ],
   "source": [
    "from IPython.core.display import display, HTML\n",
    "display(HTML(\"<style>.container { width:100% !important; }</style>\"))"
   ]
  },
  {
   "cell_type": "code",
   "execution_count": 2,
   "metadata": {
    "colab": {},
    "colab_type": "code",
    "collapsed": true,
    "id": "-UXaqMM9H8A2"
   },
   "outputs": [],
   "source": [
    "from random import randint"
   ]
  },
  {
   "cell_type": "code",
   "execution_count": 3,
   "metadata": {
    "colab": {},
    "colab_type": "code",
    "collapsed": true,
    "id": "_VezrqqjIOVj"
   },
   "outputs": [],
   "source": [
    "def Contains(A,B):\n",
    "\n",
    "    for b in B:\n",
    "        \n",
    "        if(b not in A):\n",
    "\n",
    "            return False\n",
    "\n",
    "    return True"
   ]
  },
  {
   "cell_type": "code",
   "execution_count": 4,
   "metadata": {
    "colab": {},
    "colab_type": "code",
    "collapsed": true,
    "id": "r3Giep_89CLM"
   },
   "outputs": [],
   "source": [
    "def Heirs(vertex,graph):\n",
    "    \n",
    "    N = len(graph)\n",
    "\n",
    "    heirs = [j for j in range(N) if graph[vertex][j] == 1]\n",
    "\n",
    "    return heirs"
   ]
  },
  {
   "cell_type": "code",
   "execution_count": 5,
   "metadata": {
    "colab": {},
    "colab_type": "code",
    "collapsed": true,
    "id": "0giL34Lk9Gpm"
   },
   "outputs": [],
   "source": [
    "def Multi_Heirs(vertices, graph):\n",
    "\n",
    "    multi_heirs = [Heirs(i,graph) for i in vertices]\n",
    "\n",
    "    multi_heirs = [n for sub in multi_heirs for n in sub]\n",
    "\n",
    "    return list(set(multi_heirs))"
   ]
  },
  {
   "cell_type": "code",
   "execution_count": 6,
   "metadata": {
    "collapsed": true
   },
   "outputs": [],
   "source": [
    "def Parents(vertex, graph):\n",
    "    \n",
    "    N = len (graph)\n",
    "    \n",
    "    parents = [j for j in range(N) if graph[j][vertex] == 1]\n",
    "    \n",
    "    return parents\n",
    "    "
   ]
  },
  {
   "cell_type": "code",
   "execution_count": 7,
   "metadata": {
    "collapsed": true
   },
   "outputs": [],
   "source": [
    "def Multi_Parents(vertices, graph):\n",
    "\n",
    "    multi_parents = [Parents(i,graph) for i in vertices]\n",
    "\n",
    "    multi_parents = [n for sub in multi_parents for n in sub]\n",
    "\n",
    "    return list(set(multi_parents))"
   ]
  },
  {
   "cell_type": "code",
   "execution_count": 8,
   "metadata": {
    "collapsed": true
   },
   "outputs": [],
   "source": [
    "def Ancestors(vertex, graph):\n",
    "    \n",
    "    ancestors = []\n",
    "    \n",
    "    new_ancestors = Parents(vertex, graph)\n",
    "    \n",
    "    while (not Contains(ancestors, new_ancestors)):\n",
    "        ancestors += new_ancestors\n",
    "        ancestors = list(set(ancestors))\n",
    "        \n",
    "        new_ancestors += Multi_Parents(new_ancestors, graph)\n",
    "        new_ancestors = list(set(new_ancestors))\n",
    "    return ancestors"
   ]
  },
  {
   "cell_type": "code",
   "execution_count": 9,
   "metadata": {
    "colab": {},
    "colab_type": "code",
    "collapsed": true,
    "id": "UIhK141B9JTC"
   },
   "outputs": [],
   "source": [
    "def Reachables(vertex, graph):\n",
    "\n",
    "    reachables = []\n",
    "\n",
    "    new_reachables = Heirs(vertex, graph)\n",
    "\n",
    "    while(not Contains(reachables, new_reachables)):\n",
    "\n",
    "        reachables += new_reachables\n",
    "        reachables = list(set(reachables))\n",
    "\n",
    "        new_reachables += Multi_Heirs(new_reachables, graph)\n",
    "        new_reachables = list(set(new_reachables))\n",
    "\n",
    "\n",
    "    return reachables"
   ]
  },
  {
   "cell_type": "code",
   "execution_count": 10,
   "metadata": {
    "colab": {},
    "colab_type": "code",
    "collapsed": true,
    "id": "v4EHuiOd9MrO"
   },
   "outputs": [],
   "source": [
    "def Has_Cycle(graph):\n",
    "    \n",
    "    N = len(graph)\n",
    "\n",
    "    for i in range(N):\n",
    "        \n",
    "        if(i in Reachables(i,graph)):\n",
    "\n",
    "            return True\n",
    "        \n",
    "    return False"
   ]
  },
  {
   "cell_type": "code",
   "execution_count": 11,
   "metadata": {
    "colab": {
     "base_uri": "https://localhost:8080/",
     "height": 35
    },
    "colab_type": "code",
    "id": "BJxdIFTQ9PI5",
    "outputId": "f93de0c3-31eb-4539-a272-881e58a4b307"
   },
   "outputs": [
    {
     "data": {
      "text/plain": [
       "True"
      ]
     },
     "execution_count": 11,
     "metadata": {},
     "output_type": "execute_result"
    }
   ],
   "source": [
    "g = [[0,1,0],[1,0,0],[0,0,0]]\n",
    "\n",
    "Has_Cycle(g) "
   ]
  },
  {
   "cell_type": "code",
   "execution_count": 12,
   "metadata": {
    "colab": {},
    "colab_type": "code",
    "collapsed": true,
    "id": "8avwLSh09Udm"
   },
   "outputs": [],
   "source": [
    "def RanDAG(n_vertices, n_edges):\n",
    "    \n",
    "    assert( n_edges <= (n_vertices-1)*(n_vertices)/2)\n",
    "\n",
    "    ranDag = [[0 for _ in range(n_vertices)] for _ in range(n_vertices)]\n",
    "\n",
    "    edge_count = 0\n",
    "\n",
    "    while(edge_count < n_edges):\n",
    "        \n",
    "        i = randint(0,n_vertices-1)\n",
    "        j = randint(0,n_vertices-1)\n",
    "\n",
    "        if( ranDag[i][j] == 0 ):\n",
    "\n",
    "            ranDag[i][j] = 1\n",
    "\n",
    "            if( Has_Cycle(ranDag) ):\n",
    "\n",
    "                ranDag[i][j] = 0\n",
    "            \n",
    "            else:\n",
    "\n",
    "                edge_count += 1\n",
    "\n",
    "    return ranDag      "
   ]
  },
  {
   "cell_type": "code",
   "execution_count": 84,
   "metadata": {
    "collapsed": true
   },
   "outputs": [],
   "source": [
    "def RanDag2 (n_vertices, n_edges):\n",
    "    \n",
    "    assert( n_edges <= (n_vertices-1)*(n_vertices)/2)\n",
    "\n",
    "    ranDag = [[0 for _ in range(n_vertices)] for _ in range(n_vertices)]\n",
    "\n",
    "    edge_count = 0\n",
    "    \n",
    "    multi_ancestors = n_vertices*[[]]\n",
    "    \n",
    "    counts = 0\n",
    "    \n",
    "    while edge_count < n_edges:\n",
    "        \n",
    "        possible_parents = [j for j in range(n_vertices) if len(multi_ancestors[j]) < n_vertices]\n",
    "        \n",
    "        i = possible_parents[randint(0,len(possible_parents)-1)]\n",
    "        \n",
    "        available = []\n",
    "        for j in range(n_vertices):\n",
    "            if ((j not in multi_ancestors[i]) and j!= i):\n",
    "                available.append(j)\n",
    "        \n",
    "        if len(available) == 0:\n",
    "            print(\"Deu ruim\")\n",
    "            continue\n",
    "        chosen_j = available[randint(0,len(available)-1)]\n",
    "        ranDag[i][chosen_j] = 1\n",
    "        edge_count+= 1\n",
    "        \n",
    "        multi_ancestors[chosen_j] = multi_ancestors[chosen_j] + [k for k in multi_ancestors[i]]\n",
    "        multi_ancestors[chosen_j].append(i)\n",
    "        multi_ancestors[chosen_j] = list(set(multi_ancestors[chosen_j]))\n",
    "        if counts == 1000:\n",
    "            print(\"Olha: \",edge_count)\n",
    "            break\n",
    "        counts += 1\n",
    "    print(multi_ancestors)\n",
    "    return ranDag"
   ]
  },
  {
   "cell_type": "code",
   "execution_count": 47,
   "metadata": {
    "colab": {
     "base_uri": "https://localhost:8080/",
     "height": 287
    },
    "colab_type": "code",
    "id": "EaJV2o7K9ZWF",
    "outputId": "e5dbe6ac-b30b-4365-d4cc-ce718e401e89",
    "scrolled": true
   },
   "outputs": [
    {
     "name": "stdout",
     "output_type": "stream",
     "text": [
      "CPU times: user 2.36 s, sys: 4 ms, total: 2.36 s\n",
      "Wall time: 2.36 s\n"
     ]
    }
   ],
   "source": [
    "%%time\n",
    "dag = RanDAG(100,150)"
   ]
  },
  {
   "cell_type": "code",
   "execution_count": 98,
   "metadata": {
    "scrolled": false
   },
   "outputs": [
    {
     "name": "stdout",
     "output_type": "stream",
     "text": [
      "[[], [0, 3, 4], [3, 4, 7], [], [3], [3, 7], [9, 2, 5, 7], [8, 2], [2, 5, 6, 7, 9], [2]]\n",
      "Olha aqui:\n",
      "2\n",
      "5\n",
      "6\n",
      "7\n",
      "8\n",
      "9\n",
      "[0, 1, 0, 0, 0, 0, 0, 0, 0, 0]\n",
      "[0, 0, 0, 0, 0, 0, 0, 0, 0, 0]\n",
      "[0, 0, 0, 0, 0, 0, 0, 0, 1, 1]\n",
      "[0, 0, 0, 0, 1, 1, 0, 0, 0, 0]\n",
      "[0, 1, 1, 0, 0, 0, 0, 0, 0, 0]\n",
      "[0, 0, 0, 0, 0, 0, 1, 0, 0, 0]\n",
      "[0, 0, 0, 0, 0, 0, 0, 0, 1, 0]\n",
      "[0, 0, 1, 0, 0, 1, 0, 0, 0, 0]\n",
      "[0, 0, 0, 0, 0, 0, 0, 1, 0, 0]\n",
      "[0, 0, 0, 0, 0, 0, 1, 0, 0, 0]\n",
      "CPU times: user 0 ns, sys: 0 ns, total: 0 ns\n",
      "Wall time: 1.47 ms\n"
     ]
    }
   ],
   "source": [
    "%%time\n",
    "\n",
    "def Which_Cycle(graph):\n",
    "    \n",
    "    N = len(graph)\n",
    "\n",
    "    for i in range(N):\n",
    "        \n",
    "        if(i in Reachables(i,graph)):\n",
    "\n",
    "            print(i)\n",
    "\n",
    "dag = RanDag2(10,15)\n",
    "if Has_Cycle(dag):\n",
    "    print(\"Olha aqui:\")\n",
    "    Which_Cycle(dag)\n",
    "\n",
    "for i in range(len(dag)):\n",
    "    print(dag[i])"
   ]
  },
  {
   "cell_type": "code",
   "execution_count": null,
   "metadata": {
    "colab": {},
    "colab_type": "code",
    "collapsed": true,
    "id": "PQ0LHP5ohJDH"
   },
   "outputs": [],
   "source": [
    "def Distribute(graph):\n",
    "\n",
    "    N = len(graph)\n",
    "\n",
    "    distributed_graph = [[0 for _ in range(N)] for _ in range(N)]\n",
    "\n",
    "    for i in range(N):\n",
    "\n",
    "        total_weight = sum(graph[i])\n",
    "\n",
    "        for j in range(N):\n",
    "\n",
    "            if( graph[i][j] == 1 ):\n",
    "\n",
    "                distributed_graph[i][j] = 1 / total_weight\n",
    "\n",
    "    return distributed_graph"
   ]
  },
  {
   "cell_type": "code",
   "execution_count": null,
   "metadata": {
    "collapsed": true
   },
   "outputs": [],
   "source": [
    "class DAG():\n",
    "    \n",
    "    def __init__(self,n_vertices,n_edges):\n",
    "        self.matrix = RanDAG(n_vertices,n_edges)\n",
    "        self.n_vertices = n_vertices\n",
    "        self.n_topics = n_vertices\n",
    "        self.n_edges = n_edges\n",
    "        self.prob_matrix = \n",
    "    \n",
    "    def descendants(self,vertex):\n",
    "        return Reachables(vertex,self.matrix)\n",
    "        \n",
    "    def __str__(self):\n",
    "        string = \"\"\n",
    "        for i in range(self.n_vertices):\n",
    "            string += str(self.matrix[i])\n",
    "            string += \"\\n\"\n",
    "        return str(string)\n",
    "    \n",
    "    "
   ]
  },
  {
   "cell_type": "code",
   "execution_count": null,
   "metadata": {},
   "outputs": [],
   "source": [
    "a = DAG(20,60)\n",
    "print(a)"
   ]
  },
  {
   "cell_type": "code",
   "execution_count": null,
   "metadata": {},
   "outputs": [],
   "source": [
    "\n",
    "n = 20\n",
    "#matrix = np.zeros((n,n))\n",
    "\n",
    "\n",
    "for i in range(10):\n",
    "    if i == 5:\n",
    "        continue\n",
    "    print(i)\n",
    "\n",
    "a = [[],[]]\n",
    "a[0].append(2)\n",
    "print(a)\n",
    "a[1]+= [3]\n",
    "print(a)"
   ]
  },
  {
   "cell_type": "code",
   "execution_count": 24,
   "metadata": {},
   "outputs": [
    {
     "data": {
      "text/plain": [
       "[2, 3, 5, 7]"
      ]
     },
     "execution_count": 24,
     "metadata": {},
     "output_type": "execute_result"
    }
   ],
   "source": [
    "a = [2,3,5,2,5,7]\n",
    "list(set(a))"
   ]
  }
 ],
 "metadata": {
  "colab": {
   "collapsed_sections": [],
   "name": "TOT - Simulação",
   "provenance": [],
   "version": "0.3.2"
  },
  "kernelspec": {
   "display_name": "Python 3",
   "language": "python",
   "name": "python3"
  },
  "language_info": {
   "codemirror_mode": {
    "name": "ipython",
    "version": 3
   },
   "file_extension": ".py",
   "mimetype": "text/x-python",
   "name": "python",
   "nbconvert_exporter": "python",
   "pygments_lexer": "ipython3",
   "version": "3.6.3"
  }
 },
 "nbformat": 4,
 "nbformat_minor": 1
}
