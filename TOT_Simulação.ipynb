{
  "nbformat": 4,
  "nbformat_minor": 0,
  "metadata": {
    "colab": {
      "name": "TOT - Simulação",
      "version": "0.3.2",
      "provenance": [],
      "collapsed_sections": []
    },
    "kernelspec": {
      "name": "python3",
      "display_name": "Python 3"
    }
  },
  "cells": [
    {
      "metadata": {
        "id": "IhYsdAOn8Nhk",
        "colab_type": "text"
      },
      "cell_type": "markdown",
      "source": [
        "Mudei o nome deste notebook porque não estou achando o outro que eu criei :P\n",
        "\n",
        "Edit 1 (25/11/18 - 11:47 Henrique): Como sugeri no whatsapp, incorporei as funções criadas pelo Leonardo. Com isso, passo a trabalhar sobre elas."
      ]
    },
    {
      "metadata": {
        "id": "5PJ2qxj28caz",
        "colab_type": "code",
        "outputId": "129b35e1-a871-43bb-9be9-b4f4bfdb11fb",
        "colab": {
          "base_uri": "https://localhost:8080/",
          "height": 17
        }
      },
      "cell_type": "code",
      "source": [
        "from IPython.core.display import display, HTML\n",
        "display(HTML(\"<style>.container { width:100% !important; }</style>\"))"
      ],
      "execution_count": 0,
      "outputs": [
        {
          "output_type": "display_data",
          "data": {
            "text/html": [
              "<style>.container { width:100% !important; }</style>"
            ],
            "text/plain": [
              "<IPython.core.display.HTML object>"
            ]
          },
          "metadata": {
            "tags": []
          }
        }
      ]
    },
    {
      "metadata": {
        "id": "-UXaqMM9H8A2",
        "colab_type": "code",
        "colab": {}
      },
      "cell_type": "code",
      "source": [
        "from random import randint"
      ],
      "execution_count": 0,
      "outputs": []
    },
    {
      "metadata": {
        "id": "_VezrqqjIOVj",
        "colab_type": "code",
        "colab": {}
      },
      "cell_type": "code",
      "source": [
        "def Contains(A,B):\n",
        "\n",
        "  for b in B:\n",
        "        \n",
        "    if(b not in A):\n",
        "            \n",
        "      return False\n",
        "        \n",
        "  return True"
      ],
      "execution_count": 0,
      "outputs": []
    },
    {
      "metadata": {
        "id": "r3Giep_89CLM",
        "colab_type": "code",
        "colab": {}
      },
      "cell_type": "code",
      "source": [
        "def Heirs(vertex,graph):\n",
        "    \n",
        "  N = len(graph)\n",
        "    \n",
        "  heirs = [j for j in range(N) if graph[vertex][j] == 1]\n",
        "    \n",
        "  return heirs"
      ],
      "execution_count": 0,
      "outputs": []
    },
    {
      "metadata": {
        "id": "0giL34Lk9Gpm",
        "colab_type": "code",
        "colab": {}
      },
      "cell_type": "code",
      "source": [
        "def Multi_Heirs(vertexes, graph):\n",
        "    \n",
        "  multi_heirs = [Heirs(i,graph) for i in vertexes]\n",
        "    \n",
        "  multi_heirs = [n for sub in multi_heirs for n in sub]\n",
        "    \n",
        "  return list(set(multi_heirs))"
      ],
      "execution_count": 0,
      "outputs": []
    },
    {
      "metadata": {
        "id": "UIhK141B9JTC",
        "colab_type": "code",
        "colab": {}
      },
      "cell_type": "code",
      "source": [
        "def Reachables(vertex, graph):\n",
        " \n",
        "  reachables = []\n",
        "    \n",
        "  new_reachables = Heirs(vertex, graph)\n",
        "    \n",
        "  while(not Contains(reachables, new_reachables)):\n",
        "        \n",
        "    reachables += new_reachables\n",
        "    reachables = list(set(reachables))\n",
        "        \n",
        "    new_reachables += Multi_Heirs(new_reachables, graph)\n",
        "    new_reachables = list(set(new_reachables))\n",
        "        \n",
        "  \n",
        "  return reachables"
      ],
      "execution_count": 0,
      "outputs": []
    },
    {
      "metadata": {
        "id": "v4EHuiOd9MrO",
        "colab_type": "code",
        "colab": {}
      },
      "cell_type": "code",
      "source": [
        "def Has_Cycle(graph):\n",
        "    \n",
        "  N = len(graph)\n",
        "    \n",
        "  for i in range(N):\n",
        "        \n",
        "    if(i in Reachables(i,graph)):\n",
        "            \n",
        "      return True\n",
        "        \n",
        "  return False"
      ],
      "execution_count": 0,
      "outputs": []
    },
    {
      "metadata": {
        "id": "BJxdIFTQ9PI5",
        "colab_type": "code",
        "outputId": "f93de0c3-31eb-4539-a272-881e58a4b307",
        "colab": {
          "base_uri": "https://localhost:8080/",
          "height": 35
        }
      },
      "cell_type": "code",
      "source": [
        "g = [[0,1,0],[1,0,0],[0,0,0]]\n",
        "\n",
        "Has_Cycle(g) "
      ],
      "execution_count": 0,
      "outputs": [
        {
          "output_type": "execute_result",
          "data": {
            "text/plain": [
              "True"
            ]
          },
          "metadata": {
            "tags": []
          },
          "execution_count": 8
        }
      ]
    },
    {
      "metadata": {
        "id": "8avwLSh09Udm",
        "colab_type": "code",
        "colab": {}
      },
      "cell_type": "code",
      "source": [
        "def RanDAG(n_vertexes, n_edges):\n",
        "    \n",
        "  assert( n_edges <= (n_vertexes-1)*(n_vertexes)/2)\n",
        "    \n",
        "  ranDag = [[0 for _ in range(n_vertexes)] for _ in range(n_vertexes)]\n",
        "\n",
        "  edge_count = 0\n",
        "    \n",
        "  while(edge_count < n_edges):\n",
        "        \n",
        "    i = randint(0,n_vertexes-1)\n",
        "    j = randint(0,n_vertexes-1)\n",
        "        \n",
        "    if( ranDag[i][j] == 0 ):\n",
        "    \n",
        "      ranDag[i][j] = 1\n",
        "            \n",
        "      if( Has_Cycle(ranDag) ):\n",
        "        \n",
        "        ranDag[i][j] = 0\n",
        "            \n",
        "      else:\n",
        "                \n",
        "        edge_count += 1\n",
        "               \n",
        "  return ranDag      "
      ],
      "execution_count": 0,
      "outputs": []
    },
    {
      "metadata": {
        "id": "EaJV2o7K9ZWF",
        "colab_type": "code",
        "outputId": "e5dbe6ac-b30b-4365-d4cc-ce718e401e89",
        "colab": {
          "base_uri": "https://localhost:8080/",
          "height": 287
        }
      },
      "cell_type": "code",
      "source": [
        "RanDAG(15,80)"
      ],
      "execution_count": 0,
      "outputs": [
        {
          "output_type": "execute_result",
          "data": {
            "text/plain": [
              "[[0, 1, 0, 0, 0, 1, 0, 1, 1, 1, 1, 1, 1, 1, 0],\n",
              " [0, 0, 0, 0, 1, 0, 0, 1, 0, 0, 0, 0, 0, 1, 0],\n",
              " [0, 0, 0, 0, 1, 1, 0, 1, 0, 1, 0, 0, 0, 0, 0],\n",
              " [0, 1, 0, 0, 1, 1, 0, 1, 0, 1, 1, 0, 0, 1, 0],\n",
              " [0, 0, 0, 0, 0, 0, 0, 0, 0, 1, 0, 0, 0, 0, 0],\n",
              " [0, 0, 0, 0, 0, 0, 0, 1, 0, 1, 0, 0, 0, 0, 0],\n",
              " [1, 1, 1, 1, 1, 1, 0, 1, 1, 1, 1, 1, 1, 0, 0],\n",
              " [0, 0, 0, 0, 1, 0, 0, 0, 0, 1, 0, 0, 0, 0, 0],\n",
              " [0, 1, 1, 1, 1, 1, 0, 1, 0, 1, 1, 1, 0, 1, 0],\n",
              " [0, 0, 0, 0, 0, 0, 0, 0, 0, 0, 0, 0, 0, 0, 0],\n",
              " [0, 0, 1, 0, 0, 0, 0, 0, 0, 1, 0, 0, 0, 0, 0],\n",
              " [0, 1, 1, 1, 1, 1, 0, 1, 0, 1, 0, 0, 1, 0, 0],\n",
              " [0, 1, 1, 1, 1, 1, 0, 1, 0, 1, 1, 0, 0, 1, 0],\n",
              " [0, 0, 1, 0, 1, 1, 0, 1, 0, 0, 1, 0, 0, 0, 0],\n",
              " [1, 0, 0, 0, 0, 0, 1, 1, 0, 1, 1, 0, 1, 0, 0]]"
            ]
          },
          "metadata": {
            "tags": []
          },
          "execution_count": 10
        }
      ]
    },
    {
      "metadata": {
        "id": "PQ0LHP5ohJDH",
        "colab_type": "code",
        "colab": {}
      },
      "cell_type": "code",
      "source": [
        "def Distribute(graph):\n",
        "  \n",
        "  N = len(graph)\n",
        "  \n",
        "  distributed_graph = [[0 for _ in range(N)] for _ in range(N)]\n",
        "  \n",
        "  for i in range(N):\n",
        "    \n",
        "    total_weight = sum(graph[i])\n",
        "    \n",
        "    for j in range(N):\n",
        "      \n",
        "      if( graph[i][j] == 1 ):\n",
        "        \n",
        "          distributed_graph[i][j] = 1 / total_weight\n",
        "          \n",
        "  return distributed_graph"
      ],
      "execution_count": 0,
      "outputs": []
    }
  ]
}