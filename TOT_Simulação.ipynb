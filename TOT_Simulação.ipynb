{
 "cells": [
  {
   "cell_type": "code",
   "execution_count": 1,
   "metadata": {
    "colab": {},
    "colab_type": "code",
    "collapsed": true,
    "id": "-UXaqMM9H8A2"
   },
   "outputs": [],
   "source": [
    "from random import randint"
   ]
  },
  {
   "cell_type": "code",
   "execution_count": 2,
   "metadata": {
    "colab": {},
    "colab_type": "code",
    "collapsed": true,
    "id": "_VezrqqjIOVj"
   },
   "outputs": [],
   "source": [
    "def Contains(A,B):\n",
    "\n",
    "    for b in B:\n",
    "        \n",
    "        if(b not in A):\n",
    "\n",
    "            return False\n",
    "\n",
    "    return True"
   ]
  },
  {
   "cell_type": "code",
   "execution_count": 3,
   "metadata": {
    "colab": {},
    "colab_type": "code",
    "collapsed": true,
    "id": "r3Giep_89CLM"
   },
   "outputs": [],
   "source": [
    "def Heirs(vertex,graph):\n",
    "    \n",
    "    N = len(graph)\n",
    "\n",
    "    heirs = [j for j in range(N) if graph[vertex][j] == 1]\n",
    "\n",
    "    return heirs"
   ]
  },
  {
   "cell_type": "code",
   "execution_count": 4,
   "metadata": {
    "colab": {},
    "colab_type": "code",
    "collapsed": true,
    "id": "0giL34Lk9Gpm"
   },
   "outputs": [],
   "source": [
    "def Multi_Heirs(vertices, graph):\n",
    "\n",
    "    multi_heirs = [Heirs(i,graph) for i in vertices]\n",
    "\n",
    "    multi_heirs = [n for sub in multi_heirs for n in sub]\n",
    "\n",
    "    return list(set(multi_heirs))"
   ]
  },
  {
   "cell_type": "code",
   "execution_count": 5,
   "metadata": {
    "collapsed": true
   },
   "outputs": [],
   "source": [
    "def Parents(vertex, graph):\n",
    "    \n",
    "    N = len (graph)\n",
    "    \n",
    "    parents = [j for j in range(N) if graph[j][vertex] == 1]\n",
    "    \n",
    "    return parents\n",
    "    "
   ]
  },
  {
   "cell_type": "code",
   "execution_count": 6,
   "metadata": {
    "collapsed": true
   },
   "outputs": [],
   "source": [
    "def Multi_Parents(vertices, graph):\n",
    "\n",
    "    multi_parents = [Parents(i,graph) for i in vertices]\n",
    "\n",
    "    multi_parents = [n for sub in multi_parents for n in sub]\n",
    "\n",
    "    return list(set(multi_parents))"
   ]
  },
  {
   "cell_type": "code",
   "execution_count": 7,
   "metadata": {
    "collapsed": true
   },
   "outputs": [],
   "source": [
    "def Ancestors(vertex, graph):\n",
    "    \n",
    "    ancestors = []\n",
    "    \n",
    "    new_ancestors = Parents(vertex, graph)\n",
    "    \n",
    "    while (not Contains(ancestors, new_ancestors)):\n",
    "        \n",
    "        ancestors += new_ancestors\n",
    "        ancestors = list(set(ancestors))\n",
    "        \n",
    "        new_ancestors += Multi_Parents(new_ancestors, graph)\n",
    "        new_ancestors = list(set(new_ancestors))\n",
    "        dag\n",
    "    return ancestors"
   ]
  },
  {
   "cell_type": "code",
   "execution_count": 181,
   "metadata": {
    "collapsed": true
   },
   "outputs": [],
   "source": [
    "def Multi_Ancestors(vertices,graph):\n",
    "    \n",
    "    multi_ancestors = [Ancestors(i,graph) for i in vertices]\n",
    "    \n",
    "    multi_ancestors = [n for sub in multi_ancestors for n in sub]\n",
    "    \n",
    "    return list(set(multi_ancestors))"
   ]
  },
  {
   "cell_type": "code",
   "execution_count": 8,
   "metadata": {
    "colab": {},
    "colab_type": "code",
    "collapsed": true,
    "id": "UIhK141B9JTC"
   },
   "outputs": [],
   "source": [
    "def Descendants(vertex, graph):\n",
    "\n",
    "    descendants = []\n",
    "\n",
    "    new_descendants = Heirs(vertex, graph)\n",
    "\n",
    "    while(not Contains(descendats, new_descendants)):\n",
    "\n",
    "        descendants += new_descendants\n",
    "        descendants = list(set(descendants))\n",
    "\n",
    "        new_descendants += Multi_Heirs(new_descendants, graph)\n",
    "        new_descendants = list(set(new_descendants))\n",
    "\n",
    "\n",
    "    return descendants"
   ]
  },
  {
   "cell_type": "code",
   "execution_count": 180,
   "metadata": {
    "collapsed": true
   },
   "outputs": [],
   "source": [
    "def Multi_Descendants(vertices,graph):\n",
    "    \n",
    "    multi_descendants = [Descendants(i,graph) for i in vertices]\n",
    "    \n",
    "    multi_descendants = [n for sub in multi_Descendants for n in sub]\n",
    "    \n",
    "    return list(set(multi_descendants))"
   ]
  },
  {
   "cell_type": "code",
   "execution_count": 9,
   "metadata": {
    "colab": {},
    "colab_type": "code",
    "collapsed": true,
    "id": "v4EHuiOd9MrO"
   },
   "outputs": [],
   "source": [
    "def Has_Cycle(graph):\n",
    "    \n",
    "    N = len(graph)\n",
    "\n",
    "    for i in range(N):\n",
    "        \n",
    "        if(i in Descendants(i,graph)):\n",
    "\n",
    "            return True\n",
    "        \n",
    "    return False"
   ]
  },
  {
   "cell_type": "code",
   "execution_count": 124,
   "metadata": {
    "scrolled": false
   },
   "outputs": [
    {
     "name": "stdout",
     "output_type": "stream",
     "text": [
      "CPU times: user 0 ns, sys: 0 ns, total: 0 ns\n",
      "Wall time: 2.71 ms\n"
     ]
    }
   ],
   "source": [
    "def Which_Cycle(graph):\n",
    "    \n",
    "    N = len(graph)\n",
    "\n",
    "    for i in range(N):\n",
    "        \n",
    "        if(i in Descendants(i,graph)):\n",
    "\n",
    "            print(i)\n",
    "\n",
    "if Has_Cycle(dag):\n",
    "    print(\"Olha aqui:\")\n",
    "    Which_Cycle(dag)"
   ]
  },
  {
   "cell_type": "code",
   "execution_count": 136,
   "metadata": {
    "scrolled": false
   },
   "outputs": [],
   "source": [
    "def PrintAncestors(vertex,graph):\n",
    "    if len(Parents(vertex,graph)) != 0:\n",
    "        print (str(vertex),\": \", Parents(vertex,graph))\n",
    "        for i in Parents(vertex,graph):\n",
    "            PrintAncestors(i,graph)\n",
    "            \n",
    "def PrintDescendants(vertex,graph):\n",
    "    if len(Heirs(vertex,graph)) != 0:\n",
    "        print (str(vertex),\": \", Heirs(vertex,graph))\n",
    "        for i in Heirs(vertex,graph):\n",
    "            PrintDescendants(i,graph)"
   ]
  },
  {
   "cell_type": "code",
   "execution_count": 179,
   "metadata": {
    "scrolled": true
   },
   "outputs": [
    {
     "data": {
      "text/plain": [
       "[5]"
      ]
     },
     "execution_count": 179,
     "metadata": {},
     "output_type": "execute_result"
    }
   ],
   "source": [
    "# Classificação de vértices\n",
    "\n",
    "def FirstGeneration(graph):\n",
    "    return [j for j in range(len(graph)) if len(Ancestors(j,graph)) == 0]\n",
    "    \n",
    "def LastGeneration(graph):\n",
    "    return [j for j in range(len(graph)) if len(Descendants(j,graph)) == 0]\n",
    "\n",
    "def Isolated(graph):\n",
    "    return [j for j in range(len(graph)) if (len(Parents(j,graph)) == 0 and len(Heirs(j,graph)) == 0)]"
   ]
  },
  {
   "cell_type": "code",
   "execution_count": 211,
   "metadata": {
    "collapsed": true
   },
   "outputs": [],
   "source": [
    "# Topologia do grafo: Retorna todos os vértices com algum caminho de parentesco\n",
    "\n",
    "def Connected_Subgraph (vertex, graph):\n",
    "    \n",
    "    connected = []\n",
    "    \n",
    "    new_connected = Ancestors(vertex,graph) + Descendants(vertex,graph)\n",
    "    \n",
    "    while not Contains(connected,new_connected):\n",
    "        \n",
    "        connected += new_connected\n",
    "        connected = list(set(connected))\n",
    "        \n",
    "        new_connected += Multi_Ancestors(connected,graph) + Multi_Descendants(connected,graph)\n",
    "        new_connected = list(set(new_connected))\n",
    "        \n",
    "    return connected"
   ]
  },
  {
   "cell_type": "code",
   "execution_count": 11,
   "metadata": {
    "colab": {},
    "colab_type": "code",
    "collapsed": true,
    "id": "8avwLSh09Udm"
   },
   "outputs": [],
   "source": [
    "def RanDAG(n_vertices, n_edges):\n",
    "    \n",
    "    assert( n_edges <= (n_vertices-1)*(n_vertices)/2)\n",
    "\n",
    "    ranDag = [[0 for _ in range(n_vertices)] for _ in range(n_vertices)]\n",
    "\n",
    "    edge_count = 0\n",
    "\n",
    "    while(edge_count < n_edges):\n",
    "        \n",
    "        i = randint(0,n_vertices-1)\n",
    "        j = randint(0,n_vertices-1)\n",
    "\n",
    "        if( ranDag[i][j] == 0 ):\n",
    "\n",
    "            ranDag[i][j] = 1\n",
    "\n",
    "            if( Has_Cycle(ranDag) ):\n",
    "\n",
    "                ranDag[i][j] = 0\n",
    "            \n",
    "            else:\n",
    "\n",
    "                edge_count += 1\n",
    "\n",
    "    return ranDag      "
   ]
  },
  {
   "cell_type": "code",
   "execution_count": 85,
   "metadata": {},
   "outputs": [],
   "source": [
    "def RanDAG2 (n_vertices, n_edges):\n",
    "    \n",
    "    assert( n_edges <= (n_vertices-1)*(n_vertices)/2)\n",
    "\n",
    "    ranDag = [[0 for _ in range(n_vertices)] for _ in range(n_vertices)]\n",
    "\n",
    "    edge_count = 0\n",
    "    \n",
    "    multi_ancestors = [[i] for i in range(n_vertices)]\n",
    "    \n",
    "    counts = 0\n",
    "    \n",
    "    possible_parents = [j for j in range(n_vertices)]\n",
    "    \n",
    "    while edge_count < n_edges:\n",
    "        \n",
    "        if len(possible_parents) == 0:\n",
    "            \n",
    "            print(\"Não há mais arestas possíveis\")\n",
    "            \n",
    "            break\n",
    "        \n",
    "        i = possible_parents[randint(0,len(possible_parents)-1)]\n",
    "        \n",
    "        available = []\n",
    "        \n",
    "        for j in range(n_vertices):\n",
    "            \n",
    "            if j not in multi_ancestors[i]:\n",
    "                \n",
    "                available.append(j)\n",
    "        \n",
    "        j = available[randint(0,len(available)-1)]\n",
    "        \n",
    "        ranDag[i][j] = 1\n",
    "        \n",
    "        edge_count+= 1\n",
    "        \n",
    "        for l in range(n_vertices):\n",
    "            \n",
    "            multi_ancestors[l] = multi_ancestors[l] + [k for k in multi_ancestors[i]]\n",
    "            \n",
    "            multi_ancestors[l] = list(set(multi_ancestors[l]))\n",
    "            \n",
    "        for l in possible_parents:\n",
    "            \n",
    "            if len(multi_ancestors[l]) == n_vertices:\n",
    "                \n",
    "                possible_parents.remove(l)\n",
    "        \n",
    "        if counts == 100000:\n",
    "            \n",
    "            print(\"Olha, demorou demais: \",edge_count,\" iterações. Pediu muitas arestas? Mexa no script e aumente o limite.\")\n",
    "            \n",
    "            break\n",
    "            \n",
    "        counts += 1\n",
    "    \n",
    "    return ranDag"
   ]
  },
  {
   "cell_type": "code",
   "execution_count": 307,
   "metadata": {
    "collapsed": true
   },
   "outputs": [],
   "source": [
    "# Triangular inferior, n_edges binomial\n",
    "\n",
    "from numpy.random import binomial\n",
    "\n",
    "def RanDAG3(n_vertices,n_edges):\n",
    "    \n",
    "    max_possible = (n_vertices-1)*(n_vertices)/2\n",
    "    \n",
    "    p = n_edges/((n_vertices-1)*(n_vertices)/2)\n",
    "\n",
    "    graph = [[0 for _ in range(n_vertices)] for _ in range(n_vertices)]\n",
    "    \n",
    "    for i in range(len(graph)):\n",
    "        \n",
    "        for j in range(len(graph)):\n",
    "            \n",
    "            if j < i :\n",
    "                \n",
    "                graph[i][j] = int(randint(0,(n_vertices-1)*(n_vertices)/2) <= n_edges)\n",
    "\n",
    "    return graph"
   ]
  },
  {
   "cell_type": "code",
   "execution_count": 208,
   "metadata": {
    "scrolled": true
   },
   "outputs": [
    {
     "name": "stdout",
     "output_type": "stream",
     "text": [
      "False\n",
      "CPU times: user 14.1 s, sys: 0 ns, total: 14.1 s\n",
      "Wall time: 14.1 s\n"
     ]
    }
   ],
   "source": [
    "%%time\n",
    "dag = RanDAG(80,3000)\n",
    "print(Has_Cycle(dag))"
   ]
  },
  {
   "cell_type": "code",
   "execution_count": 416,
   "metadata": {
    "scrolled": true
   },
   "outputs": [
    {
     "name": "stdout",
     "output_type": "stream",
     "text": [
      "False\n",
      "CPU times: user 1.4 s, sys: 4 ms, total: 1.4 s\n",
      "Wall time: 1.4 s\n"
     ]
    }
   ],
   "source": [
    "%%time\n",
    "dag = RanDAG2(80,3000)\n",
    "print(Has_Cycle(dag))"
   ]
  },
  {
   "cell_type": "code",
   "execution_count": 483,
   "metadata": {
    "scrolled": false
   },
   "outputs": [
    {
     "name": "stdout",
     "output_type": "stream",
     "text": [
      "False\n",
      "Quantidade de arestas:  3022\n",
      "CPU times: user 80 ms, sys: 12 ms, total: 92 ms\n",
      "Wall time: 93.8 ms\n"
     ]
    }
   ],
   "source": [
    "%%time\n",
    "dag = RanDAG3(80,3000)\n",
    "print(Has_Cycle(dag))\n",
    "\n",
    "import numpy as np\n",
    "print(\"Quantidade de arestas: \",np.sum(np.array(dag)))"
   ]
  },
  {
   "cell_type": "code",
   "execution_count": 212,
   "metadata": {
    "colab": {},
    "colab_type": "code",
    "collapsed": true,
    "id": "PQ0LHP5ohJDH"
   },
   "outputs": [],
   "source": [
    "def Distribute(graph):\n",
    "\n",
    "    N = len(graph)\n",
    "\n",
    "    distributed_graph = [[0 for _ in range(N)] for _ in range(N)]\n",
    "\n",
    "    for i in range(N):\n",
    "\n",
    "        total_weight = sum(graph[i])\n",
    "\n",
    "        for j in range(N):\n",
    "\n",
    "            if( graph[i][j] == 1 ):\n",
    "\n",
    "                distributed_graph[i][j] = 1 / total_weight\n",
    "\n",
    "    return distributed_graph"
   ]
  },
  {
   "cell_type": "code",
   "execution_count": 499,
   "metadata": {},
   "outputs": [],
   "source": [
    "class DAG():\n",
    "    \n",
    "    def __init__(self,n_vertices,n_edges,generator=1):\n",
    "        assert( generator in [1,2,3])\n",
    "        if generator == 1:\n",
    "            self.matrix = RanDAG(n_vertices,n_edges)\n",
    "        if generator == 2:\n",
    "            self.matrix = RanDAG2(n_vertices,n_edges)\n",
    "        if generator == 3:\n",
    "            self.matrix = RanDAG3(n_vertices,n_edges)\n",
    "        \n",
    "        self.n_vertices = n_vertices\n",
    "        self.n_topics = n_vertices\n",
    "        self.n_edges = n_edges\n",
    "        if generator == 3:\n",
    "            self.n_edges = sum([k for sub in self.matrix for k in sub])\n",
    "        self.prob_matrix = Distribute(self.matrix)\n",
    "    \n",
    "    def Descendants(self,vertex):\n",
    "        return Descendants(vertex,self.matrix)\n",
    "        \n",
    "    def Ancestors(self,vertex):\n",
    "        return Ancestors(vertex,self.matrix)\n",
    "    \n",
    "    def Heirs(self,vertex):\n",
    "        return Heirs(vertex,self.matrix)\n",
    "    \n",
    "    def Parents(self,vertex):\n",
    "        return Parents(vertex,self.matrix)\n",
    "\n",
    "    def Multi_Descendants(self,vertex):\n",
    "        return Multi_Descendants(vertex,self.matrix)\n",
    "        \n",
    "    def Multi_Ancestors(self,vertex):\n",
    "        return Multi_Ancestors(vertex,self.matrix)\n",
    "    \n",
    "    def Multi_Heirs(self,vertex):\n",
    "        return Multi_Heirs(vertex,self.matrix)\n",
    "    \n",
    "    def Multi_Parents(self,vertex):\n",
    "        return Multi_Parents(vertex,self.matrix)\n",
    "    \n",
    "    def PrintAncestors(self,vertex):\n",
    "        PrintAncestors(vertex,self.matrix)\n",
    "    \n",
    "    def PrintDescendants(self,vertex):\n",
    "        PrintDescendants(vertex,self.matrix)\n",
    "    \n",
    "    def __str__(self):\n",
    "        string = \"\"\n",
    "        for i in range(self.n_vertices):\n",
    "            string += str(self.matrix[i])\n",
    "            string += \"\\n\"\n",
    "        return str(string)"
   ]
  },
  {
   "cell_type": "code",
   "execution_count": 507,
   "metadata": {
    "scrolled": false
   },
   "outputs": [
    {
     "name": "stdout",
     "output_type": "stream",
     "text": [
      "[0, 0, 0, 0, 0, 0, 0, 0, 0, 0, 0, 0, 0, 0, 0, 0, 0, 0, 0, 0]\n",
      "[1, 0, 0, 0, 0, 0, 0, 0, 0, 0, 0, 0, 0, 0, 0, 0, 0, 0, 0, 0]\n",
      "[1, 1, 0, 0, 0, 0, 0, 0, 0, 0, 0, 0, 0, 0, 0, 0, 0, 0, 0, 0]\n",
      "[1, 1, 1, 0, 0, 0, 0, 0, 0, 0, 0, 0, 0, 0, 0, 0, 0, 0, 0, 0]\n",
      "[1, 1, 1, 1, 0, 0, 0, 0, 0, 0, 0, 0, 0, 0, 0, 0, 0, 0, 0, 0]\n",
      "[1, 1, 1, 1, 1, 0, 0, 0, 0, 0, 0, 0, 0, 0, 0, 0, 0, 0, 0, 0]\n",
      "[1, 1, 1, 1, 1, 1, 0, 0, 0, 0, 0, 0, 0, 0, 0, 0, 0, 0, 0, 0]\n",
      "[1, 1, 1, 1, 1, 1, 1, 0, 0, 0, 0, 0, 0, 0, 0, 0, 0, 0, 0, 0]\n",
      "[1, 1, 1, 1, 1, 1, 1, 1, 0, 0, 0, 0, 0, 0, 0, 0, 0, 0, 0, 0]\n",
      "[1, 1, 0, 1, 0, 1, 1, 1, 1, 0, 0, 0, 0, 0, 0, 0, 0, 0, 0, 0]\n",
      "[1, 1, 1, 1, 1, 1, 1, 1, 1, 1, 0, 0, 0, 0, 0, 0, 0, 0, 0, 0]\n",
      "[1, 1, 1, 1, 1, 1, 1, 1, 1, 1, 1, 0, 0, 0, 0, 0, 0, 0, 0, 0]\n",
      "[1, 0, 1, 1, 1, 1, 1, 1, 1, 1, 1, 1, 0, 0, 0, 0, 0, 0, 0, 0]\n",
      "[1, 1, 1, 1, 0, 1, 1, 1, 1, 1, 1, 1, 0, 0, 0, 0, 0, 0, 0, 0]\n",
      "[1, 1, 1, 1, 1, 1, 1, 1, 0, 1, 1, 1, 1, 0, 0, 0, 0, 0, 0, 0]\n",
      "[1, 1, 1, 1, 1, 1, 1, 1, 1, 1, 0, 0, 1, 1, 0, 0, 0, 0, 0, 0]\n",
      "[1, 1, 1, 1, 1, 1, 1, 1, 1, 1, 1, 1, 1, 1, 1, 1, 0, 0, 0, 0]\n",
      "[1, 1, 1, 1, 1, 1, 1, 1, 1, 1, 1, 1, 0, 1, 1, 1, 1, 0, 0, 0]\n",
      "[1, 1, 1, 1, 1, 0, 1, 1, 1, 0, 1, 1, 1, 1, 1, 1, 1, 1, 0, 0]\n",
      "[1, 1, 1, 1, 1, 1, 1, 1, 0, 1, 1, 1, 1, 1, 1, 1, 0, 1, 1, 0]\n",
      "\n",
      "175\n"
     ]
    }
   ],
   "source": [
    "a = DAG(20,180,3)\n",
    "print(a)\n",
    "print(a.n_edges)"
   ]
  }
 ],
 "metadata": {
  "colab": {
   "collapsed_sections": [],
   "name": "TOT - Simulação",
   "provenance": [],
   "version": "0.3.2"
  },
  "kernelspec": {
   "display_name": "Python 3",
   "language": "python",
   "name": "python3"
  },
  "language_info": {
   "codemirror_mode": {
    "name": "ipython",
    "version": 3
   },
   "file_extension": ".py",
   "mimetype": "text/x-python",
   "name": "python",
   "nbconvert_exporter": "python",
   "pygments_lexer": "ipython3",
   "version": "3.6.3"
  }
 },
 "nbformat": 4,
 "nbformat_minor": 1
}
